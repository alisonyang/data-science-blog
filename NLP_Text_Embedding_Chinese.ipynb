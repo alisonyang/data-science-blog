{
  "cells": [
    {
      "cell_type": "markdown",
      "metadata": {
        "id": "view-in-github",
        "colab_type": "text"
      },
      "source": [
        "<a href=\"https://colab.research.google.com/github/alisonyang/data-science-blog/blob/main/NLP_Text_Embedding_Chinese.ipynb\" target=\"_parent\"><img src=\"https://colab.research.google.com/assets/colab-badge.svg\" alt=\"Open In Colab\"/></a>"
      ]
    },
    {
      "cell_type": "markdown",
      "metadata": {
        "id": "dGATMXZE4oAD"
      },
      "source": [
        "# Training a Binary Classifier Using Chinese-Language Movie Reviews\n",
        "\n",
        "You will build a simple binary classification model to distinguish between positive and negative movie reviews, trained on the [豆瓣 movies short reviews](https://www.kaggle.com/datasets/utmhikari/doubanmovieshortcomments) dataset. The main goal of the project is to visualize embeddings produced by the model for Chinese language text using Tensorflow Embedding Projector."
      ]
    },
    {
      "cell_type": "markdown",
      "metadata": {
        "id": "sWt8QlOGpy1j"
      },
      "source": [
        "## Download the Dataset\n",
        "\n",
        "First, you will need to download the dataset. This data source comes from Kaggle, and to fetch Kaggle data, please refer to the following: ['Easiest way to download kaggle data in Google Colab'](https://www.kaggle.com/general/74235)."
      ]
    },
    {
      "cell_type": "code",
      "source": [
        "! pip install -q kaggle"
      ],
      "metadata": {
        "id": "hhPUqcwwetch"
      },
      "execution_count": 1,
      "outputs": []
    },
    {
      "cell_type": "code",
      "source": [
        "from google.colab import files\n",
        "\n",
        "files.upload()"
      ],
      "metadata": {
        "id": "ermziQ5CfeXy",
        "colab": {
          "base_uri": "https://localhost:8080/",
          "height": 94
        },
        "outputId": "81eebfae-0753-4e1c-d576-31ec9b8cb2d2"
      },
      "execution_count": 2,
      "outputs": [
        {
          "output_type": "display_data",
          "data": {
            "text/plain": [
              "<IPython.core.display.HTML object>"
            ],
            "text/html": [
              "\n",
              "     <input type=\"file\" id=\"files-0f9a2890-d453-4676-aec8-f599936620cc\" name=\"files[]\" multiple disabled\n",
              "        style=\"border:none\" />\n",
              "     <output id=\"result-0f9a2890-d453-4676-aec8-f599936620cc\">\n",
              "      Upload widget is only available when the cell has been executed in the\n",
              "      current browser session. Please rerun this cell to enable.\n",
              "      </output>\n",
              "      <script>// Copyright 2017 Google LLC\n",
              "//\n",
              "// Licensed under the Apache License, Version 2.0 (the \"License\");\n",
              "// you may not use this file except in compliance with the License.\n",
              "// You may obtain a copy of the License at\n",
              "//\n",
              "//      http://www.apache.org/licenses/LICENSE-2.0\n",
              "//\n",
              "// Unless required by applicable law or agreed to in writing, software\n",
              "// distributed under the License is distributed on an \"AS IS\" BASIS,\n",
              "// WITHOUT WARRANTIES OR CONDITIONS OF ANY KIND, either express or implied.\n",
              "// See the License for the specific language governing permissions and\n",
              "// limitations under the License.\n",
              "\n",
              "/**\n",
              " * @fileoverview Helpers for google.colab Python module.\n",
              " */\n",
              "(function(scope) {\n",
              "function span(text, styleAttributes = {}) {\n",
              "  const element = document.createElement('span');\n",
              "  element.textContent = text;\n",
              "  for (const key of Object.keys(styleAttributes)) {\n",
              "    element.style[key] = styleAttributes[key];\n",
              "  }\n",
              "  return element;\n",
              "}\n",
              "\n",
              "// Max number of bytes which will be uploaded at a time.\n",
              "const MAX_PAYLOAD_SIZE = 100 * 1024;\n",
              "\n",
              "function _uploadFiles(inputId, outputId) {\n",
              "  const steps = uploadFilesStep(inputId, outputId);\n",
              "  const outputElement = document.getElementById(outputId);\n",
              "  // Cache steps on the outputElement to make it available for the next call\n",
              "  // to uploadFilesContinue from Python.\n",
              "  outputElement.steps = steps;\n",
              "\n",
              "  return _uploadFilesContinue(outputId);\n",
              "}\n",
              "\n",
              "// This is roughly an async generator (not supported in the browser yet),\n",
              "// where there are multiple asynchronous steps and the Python side is going\n",
              "// to poll for completion of each step.\n",
              "// This uses a Promise to block the python side on completion of each step,\n",
              "// then passes the result of the previous step as the input to the next step.\n",
              "function _uploadFilesContinue(outputId) {\n",
              "  const outputElement = document.getElementById(outputId);\n",
              "  const steps = outputElement.steps;\n",
              "\n",
              "  const next = steps.next(outputElement.lastPromiseValue);\n",
              "  return Promise.resolve(next.value.promise).then((value) => {\n",
              "    // Cache the last promise value to make it available to the next\n",
              "    // step of the generator.\n",
              "    outputElement.lastPromiseValue = value;\n",
              "    return next.value.response;\n",
              "  });\n",
              "}\n",
              "\n",
              "/**\n",
              " * Generator function which is called between each async step of the upload\n",
              " * process.\n",
              " * @param {string} inputId Element ID of the input file picker element.\n",
              " * @param {string} outputId Element ID of the output display.\n",
              " * @return {!Iterable<!Object>} Iterable of next steps.\n",
              " */\n",
              "function* uploadFilesStep(inputId, outputId) {\n",
              "  const inputElement = document.getElementById(inputId);\n",
              "  inputElement.disabled = false;\n",
              "\n",
              "  const outputElement = document.getElementById(outputId);\n",
              "  outputElement.innerHTML = '';\n",
              "\n",
              "  const pickedPromise = new Promise((resolve) => {\n",
              "    inputElement.addEventListener('change', (e) => {\n",
              "      resolve(e.target.files);\n",
              "    });\n",
              "  });\n",
              "\n",
              "  const cancel = document.createElement('button');\n",
              "  inputElement.parentElement.appendChild(cancel);\n",
              "  cancel.textContent = 'Cancel upload';\n",
              "  const cancelPromise = new Promise((resolve) => {\n",
              "    cancel.onclick = () => {\n",
              "      resolve(null);\n",
              "    };\n",
              "  });\n",
              "\n",
              "  // Wait for the user to pick the files.\n",
              "  const files = yield {\n",
              "    promise: Promise.race([pickedPromise, cancelPromise]),\n",
              "    response: {\n",
              "      action: 'starting',\n",
              "    }\n",
              "  };\n",
              "\n",
              "  cancel.remove();\n",
              "\n",
              "  // Disable the input element since further picks are not allowed.\n",
              "  inputElement.disabled = true;\n",
              "\n",
              "  if (!files) {\n",
              "    return {\n",
              "      response: {\n",
              "        action: 'complete',\n",
              "      }\n",
              "    };\n",
              "  }\n",
              "\n",
              "  for (const file of files) {\n",
              "    const li = document.createElement('li');\n",
              "    li.append(span(file.name, {fontWeight: 'bold'}));\n",
              "    li.append(span(\n",
              "        `(${file.type || 'n/a'}) - ${file.size} bytes, ` +\n",
              "        `last modified: ${\n",
              "            file.lastModifiedDate ? file.lastModifiedDate.toLocaleDateString() :\n",
              "                                    'n/a'} - `));\n",
              "    const percent = span('0% done');\n",
              "    li.appendChild(percent);\n",
              "\n",
              "    outputElement.appendChild(li);\n",
              "\n",
              "    const fileDataPromise = new Promise((resolve) => {\n",
              "      const reader = new FileReader();\n",
              "      reader.onload = (e) => {\n",
              "        resolve(e.target.result);\n",
              "      };\n",
              "      reader.readAsArrayBuffer(file);\n",
              "    });\n",
              "    // Wait for the data to be ready.\n",
              "    let fileData = yield {\n",
              "      promise: fileDataPromise,\n",
              "      response: {\n",
              "        action: 'continue',\n",
              "      }\n",
              "    };\n",
              "\n",
              "    // Use a chunked sending to avoid message size limits. See b/62115660.\n",
              "    let position = 0;\n",
              "    do {\n",
              "      const length = Math.min(fileData.byteLength - position, MAX_PAYLOAD_SIZE);\n",
              "      const chunk = new Uint8Array(fileData, position, length);\n",
              "      position += length;\n",
              "\n",
              "      const base64 = btoa(String.fromCharCode.apply(null, chunk));\n",
              "      yield {\n",
              "        response: {\n",
              "          action: 'append',\n",
              "          file: file.name,\n",
              "          data: base64,\n",
              "        },\n",
              "      };\n",
              "\n",
              "      let percentDone = fileData.byteLength === 0 ?\n",
              "          100 :\n",
              "          Math.round((position / fileData.byteLength) * 100);\n",
              "      percent.textContent = `${percentDone}% done`;\n",
              "\n",
              "    } while (position < fileData.byteLength);\n",
              "  }\n",
              "\n",
              "  // All done.\n",
              "  yield {\n",
              "    response: {\n",
              "      action: 'complete',\n",
              "    }\n",
              "  };\n",
              "}\n",
              "\n",
              "scope.google = scope.google || {};\n",
              "scope.google.colab = scope.google.colab || {};\n",
              "scope.google.colab._files = {\n",
              "  _uploadFiles,\n",
              "  _uploadFilesContinue,\n",
              "};\n",
              "})(self);\n",
              "</script> "
            ]
          },
          "metadata": {}
        },
        {
          "output_type": "stream",
          "name": "stdout",
          "text": [
            "Saving kaggle.json to kaggle.json\n"
          ]
        },
        {
          "output_type": "execute_result",
          "data": {
            "text/plain": [
              "{'kaggle.json': b'{\"username\":\"alisonyang\",\"key\":\"f300ef15195bc928e383e9695c862c90\"}'}"
            ]
          },
          "metadata": {},
          "execution_count": 2
        }
      ]
    },
    {
      "cell_type": "code",
      "source": [
        "! mkdir ~/.kaggle\n",
        "! cp kaggle.json ~/.kaggle/\n",
        "! chmod 600 ~/.kaggle/kaggle.json"
      ],
      "metadata": {
        "id": "MffdKpcaZ-qy",
        "colab": {
          "base_uri": "https://localhost:8080/"
        },
        "outputId": "f3ab080d-9ec4-4f6e-fc86-50047ba8d957"
      },
      "execution_count": 5,
      "outputs": [
        {
          "output_type": "stream",
          "name": "stdout",
          "text": [
            "mkdir: cannot create directory ‘/root/.kaggle’: File exists\n"
          ]
        }
      ]
    },
    {
      "cell_type": "code",
      "source": [
        "# ! kaggle datasets list\n",
        "!kaggle datasets download -d utmhikari/doubanmovieshortcomments --force"
      ],
      "metadata": {
        "id": "BHLSZAamekML",
        "colab": {
          "base_uri": "https://localhost:8080/"
        },
        "outputId": "afe73895-c62d-4c4e-f225-8cc4d955b036"
      },
      "execution_count": 6,
      "outputs": [
        {
          "output_type": "stream",
          "name": "stdout",
          "text": [
            "Downloading doubanmovieshortcomments.zip to /content\n",
            " 95% 136M/144M [00:01<00:00, 44.3MB/s]\n",
            "100% 144M/144M [00:01<00:00, 76.0MB/s]\n"
          ]
        }
      ]
    },
    {
      "cell_type": "code",
      "source": [
        "! mkdir comments"
      ],
      "metadata": {
        "id": "DpA1w42ef-PQ"
      },
      "execution_count": 7,
      "outputs": []
    },
    {
      "cell_type": "code",
      "source": [
        "! unzip -o doubanmovieshortcomments.zip -d comments"
      ],
      "metadata": {
        "id": "kHgDz3XZgD9H",
        "colab": {
          "base_uri": "https://localhost:8080/"
        },
        "outputId": "0deaba58-30ed-4d6a-ba2f-f3a7140b0417"
      },
      "execution_count": 8,
      "outputs": [
        {
          "output_type": "stream",
          "name": "stdout",
          "text": [
            "Archive:  doubanmovieshortcomments.zip\n",
            "  inflating: comments/DMSC.csv       \n"
          ]
        }
      ]
    },
    {
      "cell_type": "markdown",
      "metadata": {
        "id": "SpLsMxO2wDrn"
      },
      "source": [
        "## Check the dataset"
      ]
    },
    {
      "cell_type": "code",
      "execution_count": 9,
      "metadata": {
        "id": "_IoM4VFxWpMR",
        "colab": {
          "base_uri": "https://localhost:8080/",
          "height": 337
        },
        "outputId": "91264ba5-3765-402a-8505-409f00740ee9"
      },
      "outputs": [
        {
          "output_type": "execute_result",
          "data": {
            "text/plain": [
              "   ID           Movie_Name_EN Movie_Name_CN  Crawl_Date  Number Username  \\\n",
              "0   0  Avengers Age of Ultron        复仇者联盟2  2017-01-22       1       然潘   \n",
              "1   1  Avengers Age of Ultron        复仇者联盟2  2017-01-22       2    更深的白色   \n",
              "2   2  Avengers Age of Ultron        复仇者联盟2  2017-01-22       3   有意识的贱民   \n",
              "3   3  Avengers Age of Ultron        复仇者联盟2  2017-01-22       4  不老的李大爷耶   \n",
              "4   4  Avengers Age of Ultron        复仇者联盟2  2017-01-22       5  ZephyrO   \n",
              "\n",
              "         Date  Star                                            Comment  Like  \n",
              "0  2015-05-13     3                                      连奥创都知道整容要去韩国。  2404  \n",
              "1  2015-04-24     2   非常失望，剧本完全敷衍了事，主线剧情没突破大家可以理解，可所有的人物都缺乏动机，正邪之间、...  1231  \n",
              "2  2015-04-26     2   2015年度最失望作品。以为面面俱到，实则画蛇添足；以为主题深刻，实则老调重弹；以为推陈出...  1052  \n",
              "3  2015-04-23     4   《铁人2》中勾引钢铁侠，《妇联1》中勾引鹰眼，《美队2》中勾引美国队长，在《妇联2》中终于...  1045  \n",
              "4  2015-04-22     2                                  虽然从头打到尾，但是真的很无聊啊。   723  "
            ],
            "text/html": [
              "\n",
              "  <div id=\"df-cbc17f05-9523-4c58-8f39-3cafdd690717\">\n",
              "    <div class=\"colab-df-container\">\n",
              "      <div>\n",
              "<style scoped>\n",
              "    .dataframe tbody tr th:only-of-type {\n",
              "        vertical-align: middle;\n",
              "    }\n",
              "\n",
              "    .dataframe tbody tr th {\n",
              "        vertical-align: top;\n",
              "    }\n",
              "\n",
              "    .dataframe thead th {\n",
              "        text-align: right;\n",
              "    }\n",
              "</style>\n",
              "<table border=\"1\" class=\"dataframe\">\n",
              "  <thead>\n",
              "    <tr style=\"text-align: right;\">\n",
              "      <th></th>\n",
              "      <th>ID</th>\n",
              "      <th>Movie_Name_EN</th>\n",
              "      <th>Movie_Name_CN</th>\n",
              "      <th>Crawl_Date</th>\n",
              "      <th>Number</th>\n",
              "      <th>Username</th>\n",
              "      <th>Date</th>\n",
              "      <th>Star</th>\n",
              "      <th>Comment</th>\n",
              "      <th>Like</th>\n",
              "    </tr>\n",
              "  </thead>\n",
              "  <tbody>\n",
              "    <tr>\n",
              "      <th>0</th>\n",
              "      <td>0</td>\n",
              "      <td>Avengers Age of Ultron</td>\n",
              "      <td>复仇者联盟2</td>\n",
              "      <td>2017-01-22</td>\n",
              "      <td>1</td>\n",
              "      <td>然潘</td>\n",
              "      <td>2015-05-13</td>\n",
              "      <td>3</td>\n",
              "      <td>连奥创都知道整容要去韩国。</td>\n",
              "      <td>2404</td>\n",
              "    </tr>\n",
              "    <tr>\n",
              "      <th>1</th>\n",
              "      <td>1</td>\n",
              "      <td>Avengers Age of Ultron</td>\n",
              "      <td>复仇者联盟2</td>\n",
              "      <td>2017-01-22</td>\n",
              "      <td>2</td>\n",
              "      <td>更深的白色</td>\n",
              "      <td>2015-04-24</td>\n",
              "      <td>2</td>\n",
              "      <td>非常失望，剧本完全敷衍了事，主线剧情没突破大家可以理解，可所有的人物都缺乏动机，正邪之间、...</td>\n",
              "      <td>1231</td>\n",
              "    </tr>\n",
              "    <tr>\n",
              "      <th>2</th>\n",
              "      <td>2</td>\n",
              "      <td>Avengers Age of Ultron</td>\n",
              "      <td>复仇者联盟2</td>\n",
              "      <td>2017-01-22</td>\n",
              "      <td>3</td>\n",
              "      <td>有意识的贱民</td>\n",
              "      <td>2015-04-26</td>\n",
              "      <td>2</td>\n",
              "      <td>2015年度最失望作品。以为面面俱到，实则画蛇添足；以为主题深刻，实则老调重弹；以为推陈出...</td>\n",
              "      <td>1052</td>\n",
              "    </tr>\n",
              "    <tr>\n",
              "      <th>3</th>\n",
              "      <td>3</td>\n",
              "      <td>Avengers Age of Ultron</td>\n",
              "      <td>复仇者联盟2</td>\n",
              "      <td>2017-01-22</td>\n",
              "      <td>4</td>\n",
              "      <td>不老的李大爷耶</td>\n",
              "      <td>2015-04-23</td>\n",
              "      <td>4</td>\n",
              "      <td>《铁人2》中勾引钢铁侠，《妇联1》中勾引鹰眼，《美队2》中勾引美国队长，在《妇联2》中终于...</td>\n",
              "      <td>1045</td>\n",
              "    </tr>\n",
              "    <tr>\n",
              "      <th>4</th>\n",
              "      <td>4</td>\n",
              "      <td>Avengers Age of Ultron</td>\n",
              "      <td>复仇者联盟2</td>\n",
              "      <td>2017-01-22</td>\n",
              "      <td>5</td>\n",
              "      <td>ZephyrO</td>\n",
              "      <td>2015-04-22</td>\n",
              "      <td>2</td>\n",
              "      <td>虽然从头打到尾，但是真的很无聊啊。</td>\n",
              "      <td>723</td>\n",
              "    </tr>\n",
              "  </tbody>\n",
              "</table>\n",
              "</div>\n",
              "      <button class=\"colab-df-convert\" onclick=\"convertToInteractive('df-cbc17f05-9523-4c58-8f39-3cafdd690717')\"\n",
              "              title=\"Convert this dataframe to an interactive table.\"\n",
              "              style=\"display:none;\">\n",
              "        \n",
              "  <svg xmlns=\"http://www.w3.org/2000/svg\" height=\"24px\"viewBox=\"0 0 24 24\"\n",
              "       width=\"24px\">\n",
              "    <path d=\"M0 0h24v24H0V0z\" fill=\"none\"/>\n",
              "    <path d=\"M18.56 5.44l.94 2.06.94-2.06 2.06-.94-2.06-.94-.94-2.06-.94 2.06-2.06.94zm-11 1L8.5 8.5l.94-2.06 2.06-.94-2.06-.94L8.5 2.5l-.94 2.06-2.06.94zm10 10l.94 2.06.94-2.06 2.06-.94-2.06-.94-.94-2.06-.94 2.06-2.06.94z\"/><path d=\"M17.41 7.96l-1.37-1.37c-.4-.4-.92-.59-1.43-.59-.52 0-1.04.2-1.43.59L10.3 9.45l-7.72 7.72c-.78.78-.78 2.05 0 2.83L4 21.41c.39.39.9.59 1.41.59.51 0 1.02-.2 1.41-.59l7.78-7.78 2.81-2.81c.8-.78.8-2.07 0-2.86zM5.41 20L4 18.59l7.72-7.72 1.47 1.35L5.41 20z\"/>\n",
              "  </svg>\n",
              "      </button>\n",
              "      \n",
              "  <style>\n",
              "    .colab-df-container {\n",
              "      display:flex;\n",
              "      flex-wrap:wrap;\n",
              "      gap: 12px;\n",
              "    }\n",
              "\n",
              "    .colab-df-convert {\n",
              "      background-color: #E8F0FE;\n",
              "      border: none;\n",
              "      border-radius: 50%;\n",
              "      cursor: pointer;\n",
              "      display: none;\n",
              "      fill: #1967D2;\n",
              "      height: 32px;\n",
              "      padding: 0 0 0 0;\n",
              "      width: 32px;\n",
              "    }\n",
              "\n",
              "    .colab-df-convert:hover {\n",
              "      background-color: #E2EBFA;\n",
              "      box-shadow: 0px 1px 2px rgba(60, 64, 67, 0.3), 0px 1px 3px 1px rgba(60, 64, 67, 0.15);\n",
              "      fill: #174EA6;\n",
              "    }\n",
              "\n",
              "    [theme=dark] .colab-df-convert {\n",
              "      background-color: #3B4455;\n",
              "      fill: #D2E3FC;\n",
              "    }\n",
              "\n",
              "    [theme=dark] .colab-df-convert:hover {\n",
              "      background-color: #434B5C;\n",
              "      box-shadow: 0px 1px 3px 1px rgba(0, 0, 0, 0.15);\n",
              "      filter: drop-shadow(0px 1px 2px rgba(0, 0, 0, 0.3));\n",
              "      fill: #FFFFFF;\n",
              "    }\n",
              "  </style>\n",
              "\n",
              "      <script>\n",
              "        const buttonEl =\n",
              "          document.querySelector('#df-cbc17f05-9523-4c58-8f39-3cafdd690717 button.colab-df-convert');\n",
              "        buttonEl.style.display =\n",
              "          google.colab.kernel.accessAllowed ? 'block' : 'none';\n",
              "\n",
              "        async function convertToInteractive(key) {\n",
              "          const element = document.querySelector('#df-cbc17f05-9523-4c58-8f39-3cafdd690717');\n",
              "          const dataTable =\n",
              "            await google.colab.kernel.invokeFunction('convertToInteractive',\n",
              "                                                     [key], {});\n",
              "          if (!dataTable) return;\n",
              "\n",
              "          const docLinkHtml = 'Like what you see? Visit the ' +\n",
              "            '<a target=\"_blank\" href=https://colab.research.google.com/notebooks/data_table.ipynb>data table notebook</a>'\n",
              "            + ' to learn more about interactive tables.';\n",
              "          element.innerHTML = '';\n",
              "          dataTable['output_type'] = 'display_data';\n",
              "          await google.colab.output.renderOutput(dataTable, element);\n",
              "          const docLink = document.createElement('div');\n",
              "          docLink.innerHTML = docLinkHtml;\n",
              "          element.appendChild(docLink);\n",
              "        }\n",
              "      </script>\n",
              "    </div>\n",
              "  </div>\n",
              "  "
            ]
          },
          "metadata": {},
          "execution_count": 9
        }
      ],
      "source": [
        "import pandas as pd\n",
        "\n",
        "comments = pd.read_csv('/content/comments/DMSC.csv')\n",
        "comments.head()"
      ]
    },
    {
      "cell_type": "code",
      "execution_count": 10,
      "metadata": {
        "id": "J3PEarpKw9_j",
        "colab": {
          "base_uri": "https://localhost:8080/"
        },
        "outputId": "fdf82773-2971-4391-d168-cdd489f89837"
      },
      "outputs": [
        {
          "output_type": "stream",
          "name": "stdout",
          "text": [
            "<class 'pandas.core.frame.DataFrame'>\n",
            "RangeIndex: 2125056 entries, 0 to 2125055\n",
            "Data columns (total 10 columns):\n",
            " #   Column         Dtype \n",
            "---  ------         ----- \n",
            " 0   ID             int64 \n",
            " 1   Movie_Name_EN  object\n",
            " 2   Movie_Name_CN  object\n",
            " 3   Crawl_Date     object\n",
            " 4   Number         int64 \n",
            " 5   Username       object\n",
            " 6   Date           object\n",
            " 7   Star           int64 \n",
            " 8   Comment        object\n",
            " 9   Like           int64 \n",
            "dtypes: int64(4), object(6)\n",
            "memory usage: 162.1+ MB\n"
          ]
        }
      ],
      "source": [
        "# the dataset information\n",
        "comments.info(verbose=True)"
      ]
    },
    {
      "cell_type": "code",
      "source": [
        "comments['Star'].describe()"
      ],
      "metadata": {
        "id": "F14DHgllr79T",
        "colab": {
          "base_uri": "https://localhost:8080/"
        },
        "outputId": "530dd2c9-8e65-48f1-9471-0a113630622c"
      },
      "execution_count": 11,
      "outputs": [
        {
          "output_type": "execute_result",
          "data": {
            "text/plain": [
              "count    2.125056e+06\n",
              "mean     3.638320e+00\n",
              "std      1.240807e+00\n",
              "min      1.000000e+00\n",
              "25%      3.000000e+00\n",
              "50%      4.000000e+00\n",
              "75%      5.000000e+00\n",
              "max      5.000000e+00\n",
              "Name: Star, dtype: float64"
            ]
          },
          "metadata": {},
          "execution_count": 11
        }
      ]
    },
    {
      "cell_type": "markdown",
      "metadata": {
        "id": "kLRAoHil5poj"
      },
      "source": [
        "As shown in the output above, the dataset contains a total of **2,125,056** reviews. For this project, we will only select the **Star**  and **Comment** columns to train our mode"
      ]
    },
    {
      "cell_type": "markdown",
      "metadata": {
        "id": "5EzNDkdkpvrv"
      },
      "source": [
        "## Extracting Labels from the 'Star' Column\n",
        "\n",
        "In this project, we will simply transform the star rating into two labels:\n",
        "\n",
        "*   1-3 stars: negative label (**0**)\n",
        "*   4-5 stars: positive label (**1**)\n"
      ]
    },
    {
      "cell_type": "code",
      "source": [
        "comments[\"Star\"].head()"
      ],
      "metadata": {
        "id": "oXQAGmLgulkv",
        "colab": {
          "base_uri": "https://localhost:8080/"
        },
        "outputId": "a4ac9426-cc71-4c6a-eb98-38976b082acc"
      },
      "execution_count": 12,
      "outputs": [
        {
          "output_type": "execute_result",
          "data": {
            "text/plain": [
              "0    3\n",
              "1    2\n",
              "2    2\n",
              "3    4\n",
              "4    2\n",
              "Name: Star, dtype: int64"
            ]
          },
          "metadata": {},
          "execution_count": 12
        }
      ]
    },
    {
      "cell_type": "code",
      "source": [
        "import numpy as np\n",
        "comments[\"Star\"] = np.where(comments[\"Star\"] > 3, 1, 0)\n",
        "comments[\"Star\"].head()"
      ],
      "metadata": {
        "id": "yeg4CRQwsYA1",
        "colab": {
          "base_uri": "https://localhost:8080/"
        },
        "outputId": "b5ea003a-7931-4bd9-a80f-49cf6936166a"
      },
      "execution_count": 13,
      "outputs": [
        {
          "output_type": "execute_result",
          "data": {
            "text/plain": [
              "0    0\n",
              "1    0\n",
              "2    0\n",
              "3    1\n",
              "4    0\n",
              "Name: Star, dtype: int64"
            ]
          },
          "metadata": {},
          "execution_count": 13
        }
      ]
    },
    {
      "cell_type": "code",
      "source": [
        "labels = comments['Star']\n",
        "labels.head()"
      ],
      "metadata": {
        "id": "IZGuc4kUuZGm",
        "colab": {
          "base_uri": "https://localhost:8080/"
        },
        "outputId": "a3fa2aa2-8ca3-4a9c-ed6f-2f47ce1b82c4"
      },
      "execution_count": 14,
      "outputs": [
        {
          "output_type": "execute_result",
          "data": {
            "text/plain": [
              "0    0\n",
              "1    0\n",
              "2    0\n",
              "3    1\n",
              "4    0\n",
              "Name: Star, dtype: int64"
            ]
          },
          "metadata": {},
          "execution_count": 14
        }
      ]
    },
    {
      "cell_type": "markdown",
      "metadata": {
        "id": "vB7Ekr8grPSb"
      },
      "source": [
        "## Split the dataset\n",
        "\n",
        "We will split the dataset into a training set and a testing set in a 7:3 ratio."
      ]
    },
    {
      "cell_type": "code",
      "source": [
        "reviews = comments['Comment']\n",
        "reviews.head()"
      ],
      "metadata": {
        "id": "hwHNVXI2rLNW",
        "colab": {
          "base_uri": "https://localhost:8080/"
        },
        "outputId": "391ed0ee-d058-4a70-8ccd-d803b64bbbff"
      },
      "execution_count": 15,
      "outputs": [
        {
          "output_type": "execute_result",
          "data": {
            "text/plain": [
              "0                                        连奥创都知道整容要去韩国。\n",
              "1     非常失望，剧本完全敷衍了事，主线剧情没突破大家可以理解，可所有的人物都缺乏动机，正邪之间、...\n",
              "2     2015年度最失望作品。以为面面俱到，实则画蛇添足；以为主题深刻，实则老调重弹；以为推陈出...\n",
              "3     《铁人2》中勾引钢铁侠，《妇联1》中勾引鹰眼，《美队2》中勾引美国队长，在《妇联2》中终于...\n",
              "4                                    虽然从头打到尾，但是真的很无聊啊。\n",
              "Name: Comment, dtype: object"
            ]
          },
          "metadata": {},
          "execution_count": 15
        }
      ]
    },
    {
      "cell_type": "code",
      "source": [
        "training_size = 1500000\n",
        "\n",
        "# Split the sentences\n",
        "training_reviews = reviews[0:training_size].tolist()\n",
        "testing_reviews = reviews[training_size:].tolist()\n",
        "\n",
        "# Split the labels\n",
        "training_labels = labels[0:training_size].tolist()\n",
        "testing_labels = labels[training_size:].tolist()"
      ],
      "metadata": {
        "id": "1eoiDB8Wvfrp"
      },
      "execution_count": 16,
      "outputs": []
    },
    {
      "cell_type": "code",
      "source": [
        "print(\"training set length:\", len(training_reviews))\n",
        "print(\"testing_labels set length:\", len(testing_reviews))\n",
        "print(type(training_labels))"
      ],
      "metadata": {
        "id": "42lDtAFZwFIL",
        "colab": {
          "base_uri": "https://localhost:8080/"
        },
        "outputId": "4f80f1e2-fe5c-4d50-9a4d-926d8174154a"
      },
      "execution_count": 17,
      "outputs": [
        {
          "output_type": "stream",
          "name": "stdout",
          "text": [
            "training set length: 1500000\n",
            "testing_labels set length: 625056\n",
            "<class 'list'>\n"
          ]
        }
      ]
    },
    {
      "cell_type": "markdown",
      "metadata": {
        "id": "ePTIgXj3q8Sg"
      },
      "source": [
        "## Preprocessing the train and test sets\n",
        "\n",
        "Now you can preprocess the text and labels so it can be consumed by the model. \n",
        "\n",
        "1.   we will use Jieba to segment this Chinese text data.\n",
        "2.   we will create the vocabulary using the `Tokenizer` class and generate padded token sequences using the `pad_sequences` method.\n",
        "3.   we need to convert the labels into a Numpy array to ensure a valid data type for `model.fit()`."
      ]
    },
    {
      "cell_type": "code",
      "source": [
        "!pip install jieba"
      ],
      "metadata": {
        "id": "A-E9QamglfeM",
        "colab": {
          "base_uri": "https://localhost:8080/"
        },
        "outputId": "d57a97b5-7808-430d-80d0-04455888181c"
      },
      "execution_count": 19,
      "outputs": [
        {
          "output_type": "stream",
          "name": "stdout",
          "text": [
            "Looking in indexes: https://pypi.org/simple, https://us-python.pkg.dev/colab-wheels/public/simple/\n",
            "Requirement already satisfied: jieba in /usr/local/lib/python3.9/dist-packages (0.42.1)\n"
          ]
        }
      ]
    },
    {
      "cell_type": "code",
      "source": [
        "import jieba\n",
        "\n",
        "# from ckiptagger import WS\n",
        "def jieba_cut(text):\n",
        "  result = jieba.lcut(text, cut_all = False)\n",
        "\n",
        "  # For the stop word list, please refer to this link: https://github.com/goto456/stopwords/blob/master/cn_stopwords.txt.\n",
        "  stopword = open(\"cn_stopwords.txt\", \"r\", encoding='UTF-8').read()\n",
        "  stopword_list = stopword.split(\"\\n\")\n",
        "\n",
        "  seg_result = []\n",
        "\n",
        "  for word in result:\n",
        "    if word not in stopword_list:\n",
        "      seg_result.append(word)\n",
        "\n",
        "  return \" \".join(seg_result)"
      ],
      "metadata": {
        "id": "CJ3ucCkrlkIF"
      },
      "execution_count": 20,
      "outputs": []
    },
    {
      "cell_type": "code",
      "source": [
        "# use Jieba to segment the training and testing sets\n",
        "\n",
        "traning_set = []\n",
        "for review  in training_reviews:\n",
        "  traning_set.append(jieba_cut(review))\n",
        "\n",
        "testing_set = []\n",
        "for review  in testing_reviews:\n",
        "  testing_set.append(jieba_cut(review))\n"
      ],
      "metadata": {
        "id": "36DfhZE4fU6G"
      },
      "execution_count": 22,
      "outputs": []
    },
    {
      "cell_type": "code",
      "source": [
        "traning_set[:3]"
      ],
      "metadata": {
        "id": "vtHnB1S3gH5q",
        "colab": {
          "base_uri": "https://localhost:8080/"
        },
        "outputId": "c00acb24-f3d3-4284-bac0-83a132cbfacb"
      },
      "execution_count": 23,
      "outputs": [
        {
          "output_type": "execute_result",
          "data": {
            "text/plain": [
              "['  奥创 知道 整容 韩国',\n",
              " '  非常 失望 剧本 完全 敷衍了事 主线 剧情 没 突破 理解 人物 缺乏 动机 正邪 之间 妇联 内部 没什么 火花 团结 - 分裂 - 团结 三段式 老套 其实 利用 积攒 下来 形象 魅力 搞 出 意思 剧本 写得 非常 肤浅 平面 场面 调度 混乱 呆板 满屏 铁甲 审美疲劳 笑 点算 差强人意',\n",
              " '  2015 年度 失望 作品 面面俱到 实则 画蛇添足 主题深刻 实则 老调重弹 推陈出新 实则 俗不可耐 场面 high 实则 high 劲 不足 气 一集 趣味 全无 这集 笑 点 明显 刻意 心虚 全片 没有 片段 紧张 激动 太弱 奥创']"
            ]
          },
          "metadata": {},
          "execution_count": 23
        }
      ]
    },
    {
      "cell_type": "code",
      "source": [
        "testing_set[:3]"
      ],
      "metadata": {
        "colab": {
          "base_uri": "https://localhost:8080/"
        },
        "id": "XoDAyo8Zx9Hq",
        "outputId": "82aa1cbe-cc78-484b-8205-40cf5966a37e"
      },
      "execution_count": 26,
      "outputs": [
        {
          "output_type": "execute_result",
          "data": {
            "text/plain": [
              "['  想 变坏 终将 变得 更好', '  2015 年 月 ~   第十部', '  电影 没有 扭曲 小说 原著 当年 幻想 场景 成为 现实 很棒']"
            ]
          },
          "metadata": {},
          "execution_count": 26
        }
      ]
    },
    {
      "cell_type": "code",
      "source": [
        "# set parameters\n",
        "vocab_size = 10000\n",
        "max_length = 64\n",
        "embedding_dim = 16\n",
        "\n",
        "# for padding and OOV tokens\n",
        "trunc_type='post'\n",
        "padding_type='post'\n",
        "oov_tok = \"<OOV>\""
      ],
      "metadata": {
        "id": "766MLbEcxe3z"
      },
      "execution_count": 24,
      "outputs": []
    },
    {
      "cell_type": "code",
      "execution_count": 27,
      "metadata": {
        "id": "lggoZqYUGYgX"
      },
      "outputs": [],
      "source": [
        "from tensorflow.keras.preprocessing.text import Tokenizer\n",
        "from tensorflow.keras.preprocessing.sequence import pad_sequences\n",
        "\n",
        "tokenizer = Tokenizer(num_words=vocab_size, oov_token=oov_tok)\n",
        "tokenizer.fit_on_texts(traning_set)\n",
        "word_index = tokenizer.word_index\n",
        "\n",
        "# pad the training sequences\n",
        "training_sequences = tokenizer.texts_to_sequences(traning_set)\n",
        "training_padded = pad_sequences(training_sequences, maxlen=max_length, padding=padding_type, truncating=trunc_type)\n",
        "\n",
        "# pad the testing sequences\n",
        "testing_sequences = tokenizer.texts_to_sequences(testing_set)\n",
        "testing_padded = pad_sequences(testing_sequences, maxlen=max_length, padding=padding_type, truncating=trunc_type)\n",
        "\n",
        "# convert the labels into numpy arrays\n",
        "training_labels = np.array(training_labels)\n",
        "testing_labels = np.array(testing_labels)"
      ]
    },
    {
      "cell_type": "markdown",
      "metadata": {
        "id": "N2rCmp7ArGL_"
      },
      "source": [
        "## Build and Compile the Model\n",
        "\n",
        "Now that the data has been preprocessed, we can move on to building our binary classification model."
      ]
    },
    {
      "cell_type": "code",
      "execution_count": 28,
      "metadata": {
        "id": "5NEpdhb8AxID",
        "colab": {
          "base_uri": "https://localhost:8080/"
        },
        "outputId": "b9748443-fc7f-46f5-b05b-ecda37780458"
      },
      "outputs": [
        {
          "output_type": "stream",
          "name": "stdout",
          "text": [
            "Model: \"sequential\"\n",
            "_________________________________________________________________\n",
            " Layer (type)                Output Shape              Param #   \n",
            "=================================================================\n",
            " embedding (Embedding)       (None, 64, 16)            160000    \n",
            "                                                                 \n",
            " flatten (Flatten)           (None, 1024)              0         \n",
            "                                                                 \n",
            " dense (Dense)               (None, 6)                 6150      \n",
            "                                                                 \n",
            " dense_1 (Dense)             (None, 1)                 7         \n",
            "                                                                 \n",
            "=================================================================\n",
            "Total params: 166,157\n",
            "Trainable params: 166,157\n",
            "Non-trainable params: 0\n",
            "_________________________________________________________________\n"
          ]
        }
      ],
      "source": [
        "import tensorflow as tf\n",
        "\n",
        "model = tf.keras.Sequential([\n",
        "    tf.keras.layers.Embedding(vocab_size, embedding_dim, input_length=max_length),\n",
        "    tf.keras.layers.Flatten(),\n",
        "    tf.keras.layers.Dense(6, activation='relu'),\n",
        "    tf.keras.layers.Dense(1, activation='sigmoid')\n",
        "])\n",
        "\n",
        "model.compile(loss='binary_crossentropy',optimizer='adam',metrics=['accuracy'])\n",
        "model.summary()"
      ]
    },
    {
      "cell_type": "markdown",
      "metadata": {
        "id": "e8gbnoRdqp8O"
      },
      "source": [
        "## Train the Model\n",
        "\n",
        "The next step is to train our model. However, since the primary objective of this Jupyter Notebook is to visualize the text embedding information using the TensorFlow Embedding Projector, we won't be dedicating a significant amount of effort to training the model."
      ]
    },
    {
      "cell_type": "code",
      "execution_count": 29,
      "metadata": {
        "id": "V5LLrXC-uNX6",
        "colab": {
          "base_uri": "https://localhost:8080/"
        },
        "outputId": "443cc0d7-2c11-4c78-e019-54fa1aaf6cc4"
      },
      "outputs": [
        {
          "output_type": "stream",
          "name": "stdout",
          "text": [
            "Epoch 1/10\n",
            "46875/46875 - 261s - loss: 0.4796 - accuracy: 0.7661 - val_loss: 0.4856 - val_accuracy: 0.7575 - 261s/epoch - 6ms/step\n",
            "Epoch 2/10\n",
            "46875/46875 - 245s - loss: 0.4586 - accuracy: 0.7792 - val_loss: 0.4755 - val_accuracy: 0.7657 - 245s/epoch - 5ms/step\n",
            "Epoch 3/10\n",
            "46875/46875 - 250s - loss: 0.4482 - accuracy: 0.7855 - val_loss: 0.4768 - val_accuracy: 0.7655 - 250s/epoch - 5ms/step\n",
            "Epoch 4/10\n",
            "46875/46875 - 248s - loss: 0.4394 - accuracy: 0.7907 - val_loss: 0.4803 - val_accuracy: 0.7657 - 248s/epoch - 5ms/step\n",
            "Epoch 5/10\n",
            "46875/46875 - 240s - loss: 0.4329 - accuracy: 0.7944 - val_loss: 0.4857 - val_accuracy: 0.7621 - 240s/epoch - 5ms/step\n",
            "Epoch 6/10\n",
            "46875/46875 - 250s - loss: 0.4281 - accuracy: 0.7974 - val_loss: 0.4959 - val_accuracy: 0.7568 - 250s/epoch - 5ms/step\n",
            "Epoch 7/10\n",
            "46875/46875 - 245s - loss: 0.4243 - accuracy: 0.7997 - val_loss: 0.5111 - val_accuracy: 0.7469 - 245s/epoch - 5ms/step\n",
            "Epoch 8/10\n",
            "46875/46875 - 248s - loss: 0.4211 - accuracy: 0.8017 - val_loss: 0.5005 - val_accuracy: 0.7557 - 248s/epoch - 5ms/step\n",
            "Epoch 9/10\n",
            "46875/46875 - 265s - loss: 0.4186 - accuracy: 0.8031 - val_loss: 0.5230 - val_accuracy: 0.7444 - 265s/epoch - 6ms/step\n",
            "Epoch 10/10\n",
            "46875/46875 - 240s - loss: 0.4163 - accuracy: 0.8044 - val_loss: 0.5263 - val_accuracy: 0.7430 - 240s/epoch - 5ms/step\n"
          ]
        }
      ],
      "source": [
        "num_epochs = 10\n",
        "\n",
        "# Train the model\n",
        "history = model.fit(training_padded, training_labels, epochs=num_epochs, validation_data=(testing_padded, testing_labels), verbose=2)"
      ]
    },
    {
      "cell_type": "code",
      "source": [
        "import matplotlib.pyplot as plt\n",
        "\n",
        "# Plot utility\n",
        "def plot_graphs(history, string):\n",
        "  plt.plot(history.history[string])\n",
        "  plt.plot(history.history['val_'+string])\n",
        "  plt.xlabel(\"Epochs\")\n",
        "  plt.ylabel(string)\n",
        "  plt.legend([string, 'val_'+string])\n",
        "  plt.show()\n",
        "  \n",
        "# Plot the accuracy and loss\n",
        "plot_graphs(history, \"accuracy\")\n",
        "plot_graphs(history, \"loss\")"
      ],
      "metadata": {
        "colab": {
          "base_uri": "https://localhost:8080/",
          "height": 881
        },
        "id": "IKi_j14B_T8D",
        "outputId": "35f82ee1-347b-46cd-9597-1cde2ffe37e8"
      },
      "execution_count": 34,
      "outputs": [
        {
          "output_type": "display_data",
          "data": {
            "text/plain": [
              "<Figure size 640x480 with 1 Axes>"
            ],
            "image/png": "[encoded data removed]"
          },
          "metadata": {}
        },
        {
          "output_type": "display_data",
          "data": {
            "text/plain": [
              "<Figure size 640x480 with 1 Axes>"
            ],
            "image/png": "[encoded data removed]"
          },
          "metadata": {}
        }
      ]
    },
    {
      "cell_type": "markdown",
      "metadata": {
        "id": "mroDvjEJqwm4"
      },
      "source": [
        "## Visualize Word Embeddings\n",
        "\n",
        "After the model is trained, we can visualize the weights in the Embedding layer to observe how similar words are clustered together. To achieve this, we will use the [Tensorflow Embedding Projector](https://projector.tensorflow.org/)  to reduce the 16-dimensional vectors we defined earlier into fewer components that can be plotted in the projector. In order to obtain these weights, we can execute the cell below."
      ]
    },
    {
      "cell_type": "code",
      "execution_count": 38,
      "metadata": {
        "id": "yAmjJqEyCOF_",
        "colab": {
          "base_uri": "https://localhost:8080/"
        },
        "outputId": "640f0a9c-886d-4040-8570-2b4b0cb69c32"
      },
      "outputs": [
        {
          "output_type": "stream",
          "name": "stdout",
          "text": [
            "(10000, 16)\n"
          ]
        }
      ],
      "source": [
        "# use reverse_word_index to lookup a word \n",
        "reverse_word_index = tokenizer.index_word\n",
        "\n",
        "# Get the embedding layer from the model\n",
        "embedding_layer = model.layers[0]\n",
        "\n",
        "# Get the weights \n",
        "embedding_weights = embedding_layer.get_weights()[0]\n",
        "print(embedding_weights.shape) \n"
      ]
    },
    {
      "cell_type": "code",
      "source": [
        "import io\n",
        "\n",
        "# Open writeable files\n",
        "out_v = io.open('vecs.tsv', 'w', encoding='utf-8')\n",
        "out_m = io.open('meta.tsv', 'w', encoding='utf-8')\n",
        "\n",
        "for word_num in range(1, vocab_size):\n",
        "  word_name = reverse_word_index[word_num]\n",
        "  word_embedding = embedding_weights[word_num]\n",
        "\n",
        "  if len(word_name.strip()) != 0:\n",
        "    # print(word_name)\n",
        "    out_m.write(word_name + \"\\n\")\n",
        "    out_v.write('\\t'.join([str(x) for x in word_embedding]) + \"\\n\")\n",
        "\n",
        "out_v.close()\n",
        "out_m.close()"
      ],
      "metadata": {
        "id": "OJGdRnEO_c9q"
      },
      "execution_count": 60,
      "outputs": []
    },
    {
      "cell_type": "code",
      "source": [
        "try:\n",
        "  from google.colab import files\n",
        "except ImportError:\n",
        "  pass\n",
        "\n",
        "# Download the files\n",
        "else:\n",
        "  files.download('vecs.tsv')\n",
        "  files.download('meta.tsv')"
      ],
      "metadata": {
        "colab": {
          "base_uri": "https://localhost:8080/",
          "height": 17
        },
        "id": "pmQvjSVa_dHi",
        "outputId": "58368701-cb55-4c6b-94ec-a206e344fd80"
      },
      "execution_count": 61,
      "outputs": [
        {
          "output_type": "display_data",
          "data": {
            "text/plain": [
              "<IPython.core.display.Javascript object>"
            ],
            "application/javascript": [
              "\n",
              "    async function download(id, filename, size) {\n",
              "      if (!google.colab.kernel.accessAllowed) {\n",
              "        return;\n",
              "      }\n",
              "      const div = document.createElement('div');\n",
              "      const label = document.createElement('label');\n",
              "      label.textContent = `Downloading \"${filename}\": `;\n",
              "      div.appendChild(label);\n",
              "      const progress = document.createElement('progress');\n",
              "      progress.max = size;\n",
              "      div.appendChild(progress);\n",
              "      document.body.appendChild(div);\n",
              "\n",
              "      const buffers = [];\n",
              "      let downloaded = 0;\n",
              "\n",
              "      const channel = await google.colab.kernel.comms.open(id);\n",
              "      // Send a message to notify the kernel that we're ready.\n",
              "      channel.send({})\n",
              "\n",
              "      for await (const message of channel.messages) {\n",
              "        // Send a message to notify the kernel that we're ready.\n",
              "        channel.send({})\n",
              "        if (message.buffers) {\n",
              "          for (const buffer of message.buffers) {\n",
              "            buffers.push(buffer);\n",
              "            downloaded += buffer.byteLength;\n",
              "            progress.value = downloaded;\n",
              "          }\n",
              "        }\n",
              "      }\n",
              "      const blob = new Blob(buffers, {type: 'application/binary'});\n",
              "      const a = document.createElement('a');\n",
              "      a.href = window.URL.createObjectURL(blob);\n",
              "      a.download = filename;\n",
              "      div.appendChild(a);\n",
              "      a.click();\n",
              "      div.remove();\n",
              "    }\n",
              "  "
            ]
          },
          "metadata": {}
        },
        {
          "output_type": "display_data",
          "data": {
            "text/plain": [
              "<IPython.core.display.Javascript object>"
            ],
            "application/javascript": [
              "download(\"download_85b94fc1-d89d-4d50-a6d6-7634cd0a2a55\", \"vecs.tsv\", 1749829)"
            ]
          },
          "metadata": {}
        },
        {
          "output_type": "display_data",
          "data": {
            "text/plain": [
              "<IPython.core.display.Javascript object>"
            ],
            "application/javascript": [
              "\n",
              "    async function download(id, filename, size) {\n",
              "      if (!google.colab.kernel.accessAllowed) {\n",
              "        return;\n",
              "      }\n",
              "      const div = document.createElement('div');\n",
              "      const label = document.createElement('label');\n",
              "      label.textContent = `Downloading \"${filename}\": `;\n",
              "      div.appendChild(label);\n",
              "      const progress = document.createElement('progress');\n",
              "      progress.max = size;\n",
              "      div.appendChild(progress);\n",
              "      document.body.appendChild(div);\n",
              "\n",
              "      const buffers = [];\n",
              "      let downloaded = 0;\n",
              "\n",
              "      const channel = await google.colab.kernel.comms.open(id);\n",
              "      // Send a message to notify the kernel that we're ready.\n",
              "      channel.send({})\n",
              "\n",
              "      for await (const message of channel.messages) {\n",
              "        // Send a message to notify the kernel that we're ready.\n",
              "        channel.send({})\n",
              "        if (message.buffers) {\n",
              "          for (const buffer of message.buffers) {\n",
              "            buffers.push(buffer);\n",
              "            downloaded += buffer.byteLength;\n",
              "            progress.value = downloaded;\n",
              "          }\n",
              "        }\n",
              "      }\n",
              "      const blob = new Blob(buffers, {type: 'application/binary'});\n",
              "      const a = document.createElement('a');\n",
              "      a.href = window.URL.createObjectURL(blob);\n",
              "      a.download = filename;\n",
              "      div.appendChild(a);\n",
              "      a.click();\n",
              "      div.remove();\n",
              "    }\n",
              "  "
            ]
          },
          "metadata": {}
        },
        {
          "output_type": "display_data",
          "data": {
            "text/plain": [
              "<IPython.core.display.Javascript object>"
            ],
            "application/javascript": [
              "download(\"download_14c8fea3-9196-48b4-847b-9a05ede961ca\", \"meta.tsv\", 72254)"
            ]
          },
          "metadata": {}
        }
      ]
    },
    {
      "cell_type": "markdown",
      "metadata": {
        "id": "DEuG9AqIuF6i"
      },
      "source": [
        "We can go to the [Tensorflow Embedding Projector](https://projector.tensorflow.org/) and load the two files:\n",
        "* `vecs.tsv` - contains the vector weights of each word in the vocabulary\n",
        "* `meta.tsv` - contains the words name in the vocabulary"
      ]
    },
    {
      "cell_type": "markdown",
      "metadata": {
        "id": "TRV8ag3nyAOb"
      },
      "source": [
        "You can try to search for words like `棒呆` and `大失所望` and see what other words are closely related to them. This could be a fun and engaging way to expand our vocabulary and explore the relationships between different words"
      ]
    },
    {
      "cell_type": "code",
      "source": [],
      "metadata": {
        "id": "8YSnYTisJKM4"
      },
      "execution_count": null,
      "outputs": []
    }
  ],
  "metadata": {
    "colab": {
      "provenance": [],
      "include_colab_link": true
    },
    "kernelspec": {
      "display_name": "Python 3",
      "language": "python",
      "name": "python3"
    },
    "language_info": {
      "codemirror_mode": {
        "name": "ipython",
        "version": 3
      },
      "file_extension": ".py",
      "mimetype": "text/x-python",
      "name": "python",
      "nbconvert_exporter": "python",
      "pygments_lexer": "ipython3",
      "version": "3.7.4"
    },
    "accelerator": "GPU",
    "gpuClass": "standard"
  },
  "nbformat": 4,
  "nbformat_minor": 0
}